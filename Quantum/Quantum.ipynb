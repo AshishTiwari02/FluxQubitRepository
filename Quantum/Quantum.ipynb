{
 "cells": [
  {
   "cell_type": "code",
   "execution_count": 1,
   "metadata": {},
   "outputs": [],
   "source": [
    "import cirq"
   ]
  },
  {
   "cell_type": "code",
   "execution_count": 2,
   "metadata": {},
   "outputs": [
    {
     "name": "stdout",
     "output_type": "stream",
     "text": [
      "[cirq.GridQubit(0, 0), cirq.GridQubit(0, 1), cirq.GridQubit(0, 2), cirq.GridQubit(1, 0), cirq.GridQubit(1, 1), cirq.GridQubit(1, 2), cirq.GridQubit(2, 0), cirq.GridQubit(2, 1), cirq.GridQubit(2, 2)]\n"
     ]
    }
   ],
   "source": [
    "length =3\n",
    "qubits = [cirq.GridQubit(i,j) for i in range(length) for j in range(length)]\n",
    "print(qubits)"
   ]
  },
  {
   "cell_type": "code",
   "execution_count": 3,
   "metadata": {},
   "outputs": [
    {
     "name": "stdout",
     "output_type": "stream",
     "text": [
      "(0, 0): ───H───\n",
      "\n",
      "(0, 2): ───H───\n",
      "\n",
      "(1, 1): ───H───\n",
      "\n",
      "(2, 0): ───H───\n",
      "\n",
      "(2, 2): ───H───\n"
     ]
    }
   ],
   "source": [
    "circuit = cirq.Circuit()\n",
    "circuit.append(cirq.H(q) for q in qubits if(q.row+q.col)% 2==0 )\n",
    "print(circuit)"
   ]
  },
  {
   "cell_type": "code",
   "execution_count": 9,
   "metadata": {},
   "outputs": [
    {
     "name": "stdout",
     "output_type": "stream",
     "text": [
      "(0, 0): ───H───────────────────\n",
      "\n",
      "(0, 1): ───────X───X───X───X───\n",
      "\n",
      "(0, 2): ───H───────────────────\n",
      "\n",
      "(1, 0): ───────X───X───X───X───\n",
      "\n",
      "(1, 1): ───H───────────────────\n",
      "\n",
      "(1, 2): ───────X───X───X───X───\n",
      "\n",
      "(2, 0): ───H───────────────────\n",
      "\n",
      "(2, 1): ───────X───X───X───X───\n",
      "\n",
      "(2, 2): ───H───────────────────\n"
     ]
    }
   ],
   "source": [
    "circuit.append(cirq.X(q) for q in qubits if(q.row + q.col)% 2==1 )\n",
    "print(circuit)"
   ]
  },
  {
   "cell_type": "code",
   "execution_count": 7,
   "metadata": {},
   "outputs": [
    {
     "name": "stdout",
     "output_type": "stream",
     "text": [
      "Moment 0 : H((0, 0)) and H((0, 2)) and H((1, 1)) and H((2, 0)) and H((2, 2))\n",
      "Moment 1 : X((0, 1)) and X((1, 0)) and X((1, 2)) and X((2, 1))\n",
      "Moment 2 : X((0, 1)) and X((1, 0)) and X((1, 2)) and X((2, 1))\n"
     ]
    }
   ],
   "source": [
    "for i,m in enumerate(circuit):\n",
    "    print(\"Moment {} : {}\".format(i, m))"
   ]
  },
  {
   "cell_type": "code",
   "execution_count": 10,
   "metadata": {},
   "outputs": [
    {
     "name": "stdout",
     "output_type": "stream",
     "text": [
      "(0, 0): ───H───H───────────────────\n",
      "\n",
      "(0, 1): ───────X───X───X───X───X───\n",
      "\n",
      "(0, 2): ───H───H───────────────────\n",
      "\n",
      "(1, 0): ───────X───X───X───X───X───\n",
      "\n",
      "(1, 1): ───H───H───────────────────\n",
      "\n",
      "(1, 2): ───────X───X───X───X───X───\n",
      "\n",
      "(2, 0): ───H───H───────────────────\n",
      "\n",
      "(2, 1): ───────X───X───X───X───X───\n",
      "\n",
      "(2, 2): ───H───H───────────────────\n"
     ]
    }
   ],
   "source": [
    "circuit.append([cirq.H(q) for q in qubits if (q.row + q.col) % 2 == 0],\n",
    "               strategy=cirq.InsertStrategy.EARLIEST)\n",
    "circuit.append([cirq.X(q) for q in qubits if (q.row + q.col) % 2 == 1],\n",
    "               strategy=cirq.InsertStrategy.EARLIEST)\n",
    "print(circuit)"
   ]
  },
  {
   "cell_type": "code",
   "execution_count": null,
   "metadata": {},
   "outputs": [],
   "source": []
  }
 ],
 "metadata": {
  "kernelspec": {
   "display_name": "Python 3",
   "language": "python",
   "name": "python3"
  },
  "language_info": {
   "codemirror_mode": {
    "name": "ipython",
    "version": 3
   },
   "file_extension": ".py",
   "mimetype": "text/x-python",
   "name": "python",
   "nbconvert_exporter": "python",
   "pygments_lexer": "ipython3",
   "version": "3.6.4"
  }
 },
 "nbformat": 4,
 "nbformat_minor": 2
}
