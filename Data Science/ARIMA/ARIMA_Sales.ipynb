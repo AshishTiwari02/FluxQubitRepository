{
 "cells": [
  {
   "cell_type": "code",
   "execution_count": 1,
   "metadata": {},
   "outputs": [
    {
     "name": "stdout",
     "output_type": "stream",
     "text": [
      "Python Version : 3.6.4 |Anaconda, Inc.| (default, Jan 16 2018, 10:22:32) [MSC v.1900 64 bit (AMD64)]\n",
      "Numpy Version : 1.14.2\n",
      "Pandas Version : 0.22.0\n",
      "Matplotlib Version : 2.2.4\n",
      "SeaBorn Version : 0.8.1\n",
      "Scipy Version : 1.0.0\n",
      "Sklearn Version : 0.19.1\n"
     ]
    }
   ],
   "source": [
    "#---------------------------------------------------\n",
    "# Importing Required Library and Version\n",
    "#--------------------------------------------------\n",
    "\n",
    "import sys\n",
    "import numpy\n",
    "import pandas\n",
    "import matplotlib\n",
    "import seaborn\n",
    "import scipy\n",
    "import sklearn\n",
    "\n",
    "\n",
    "print('Python Version : {}'.format(sys.version))\n",
    "print('Numpy Version : {}'.format(numpy.__version__))\n",
    "print('Pandas Version : {}'.format(pandas.__version__))\n",
    "print('Matplotlib Version : {}'.format(matplotlib.__version__))\n",
    "print('SeaBorn Version : {}'.format(seaborn.__version__))\n",
    "print('Scipy Version : {}'.format(scipy.__version__))\n",
    "print('Sklearn Version : {}'.format(sklearn.__version__))"
   ]
  },
  {
   "cell_type": "code",
   "execution_count": 36,
   "metadata": {},
   "outputs": [
    {
     "ename": "ModuleNotFoundError",
     "evalue": "No module named 'pandasql'",
     "output_type": "error",
     "traceback": [
      "\u001b[1;31m---------------------------------------------------------------------------\u001b[0m",
      "\u001b[1;31mModuleNotFoundError\u001b[0m                       Traceback (most recent call last)",
      "\u001b[1;32m<ipython-input-36-bd4957332093>\u001b[0m in \u001b[0;36m<module>\u001b[1;34m()\u001b[0m\n\u001b[0;32m      8\u001b[0m \u001b[1;32mimport\u001b[0m \u001b[0mseaborn\u001b[0m \u001b[1;32mas\u001b[0m \u001b[0msns\u001b[0m\u001b[1;33m\u001b[0m\u001b[0m\n\u001b[0;32m      9\u001b[0m \u001b[1;32mfrom\u001b[0m \u001b[0mpandas\u001b[0m \u001b[1;32mimport\u001b[0m \u001b[0mdatetime\u001b[0m\u001b[1;33m\u001b[0m\u001b[0m\n\u001b[1;32m---> 10\u001b[1;33m \u001b[1;32mimport\u001b[0m \u001b[0mpandasql\u001b[0m \u001b[1;32mas\u001b[0m \u001b[0mps\u001b[0m\u001b[1;33m\u001b[0m\u001b[0m\n\u001b[0m",
      "\u001b[1;31mModuleNotFoundError\u001b[0m: No module named 'pandasql'"
     ]
    }
   ],
   "source": [
    "#---------------------------------------------------\n",
    "# Library with Alias\n",
    "#--------------------------------------------------\n",
    "\n",
    "import numpy as np\n",
    "import pandas as pd\n",
    "import matplotlib.pyplot as plt\n",
    "import seaborn as sns\n",
    "from pandas import datetime\n",
    "import pandasql as ps"
   ]
  },
  {
   "cell_type": "code",
   "execution_count": 29,
   "metadata": {},
   "outputs": [],
   "source": [
    "#---------------------------------------------------\n",
    "# Import Data sets\n",
    "#---------------------------------------------------\n",
    "#data = pd.read_csv(r\"C:\\Users\\SONY\\ARIMA\\Sales_Records.csv\")\n",
    "data = pd.read_csv(r\"C:\\Users\\SONY\\ARIMA\\Sales_Records.csv\",usecols = ['Order_Date','Total_Revenue'])"
   ]
  },
  {
   "cell_type": "code",
   "execution_count": 33,
   "metadata": {},
   "outputs": [
    {
     "name": "stdout",
     "output_type": "stream",
     "text": [
      "            Total_Revenue\n",
      "Order_Date               \n",
      "2010-01-01       11410.59\n",
      "2010-01-01      227570.20\n",
      "2010-01-01      140739.06\n",
      "2010-01-01     1037544.00\n",
      "2010-01-01      420596.80\n",
      "2010-01-01       12782.10\n",
      "2010-01-01      893239.88\n",
      "2010-01-01      557985.06\n",
      "2010-01-02      663228.30\n",
      "2010-01-02     1608774.56\n",
      "2010-01-02      820154.16\n",
      "2010-01-02      631936.36\n",
      "2010-01-02      580520.64\n",
      "2010-01-02      156943.08\n",
      "2010-01-02     4047190.77\n",
      "2010-01-02     2781520.77\n",
      "2010-01-02       90174.45\n",
      "2010-01-02      287526.14\n",
      "2010-01-02       46372.06\n",
      "2010-01-02      805733.80\n",
      "2010-01-02        4879.59\n",
      "2010-01-02       14377.35\n",
      "2010-01-02     6107698.59\n",
      "2010-01-02      579948.96\n",
      "2010-01-02      397346.30\n",
      "2010-01-02     2539780.72\n",
      "2010-01-02     1154291.04\n",
      "2010-01-03      451026.48\n",
      "2010-01-03      946859.34\n",
      "2010-01-03      299910.60\n",
      "...                   ...\n",
      "2017-07-27     5389597.55\n",
      "2017-07-27      119704.62\n",
      "2017-07-27      408486.54\n",
      "2017-07-27     1372151.94\n",
      "2017-07-27     1100254.38\n",
      "2017-07-27     6342550.57\n",
      "2017-07-27        3084.25\n",
      "2017-07-27      162955.44\n",
      "2017-07-27      904837.58\n",
      "2017-07-27      437664.15\n",
      "2017-07-27      513264.40\n",
      "2017-07-27     1908484.60\n",
      "2017-07-27     5724400.82\n",
      "2017-07-27     1184243.92\n",
      "2017-07-28     1411102.00\n",
      "2017-07-28      364539.84\n",
      "2017-07-28      427444.60\n",
      "2017-07-28     4027923.60\n",
      "2017-07-28       57604.30\n",
      "2017-07-28     3185002.00\n",
      "2017-07-28       62439.72\n",
      "2017-07-28     3843862.40\n",
      "2017-07-28     1057709.40\n",
      "2017-07-28     1068252.04\n",
      "2017-07-28     1232788.12\n",
      "2017-07-28      519639.34\n",
      "2017-07-28      399908.60\n",
      "2017-07-28      128405.84\n",
      "2017-07-28       59366.79\n",
      "2017-07-28      332150.00\n",
      "\n",
      "[50000 rows x 1 columns]\n"
     ]
    }
   ],
   "source": [
    "#---------------------------------------------------\n",
    "# Data sets Details\n",
    "#---------------------------------------------------\n",
    "#print(data.columns)\n",
    "data['Order_Date'] = pd.to_datetime(data['Order_Date'],infer_datetime_format=True)\n",
    "indexedDateData = data.set_index(['Order_Date'])\n",
    "print(indexedDateData)\n"
   ]
  },
  {
   "cell_type": "code",
   "execution_count": 35,
   "metadata": {},
   "outputs": [
    {
     "data": {
      "image/png": "[encoded data removed]",
      "text/plain": [
       "<Figure size 432x288 with 1 Axes>"
      ]
     },
     "execution_count": 35,
     "metadata": {},
     "output_type": "execute_result"
    },
    {
     "data": {
      "image/png": "[encoded data removed]",
      "text/plain": [
       "<Figure size 432x288 with 1 Axes>"
      ]
     },
     "metadata": {},
     "output_type": "display_data"
    }
   ],
   "source": [
    "#indexedDateData.plot()\n",
    "from statsmodels.graphics.tsaplots import plot_acf\n",
    "plot_acf(indexedDateData)"
   ]
  },
  {
   "cell_type": "code",
   "execution_count": 3,
   "metadata": {},
   "outputs": [],
   "source": [
    "def parser(x):\n",
    "    return datetime.strptime(x,'%Y-%m')\n",
    "    \n",
    "sales = pd.read_csv('Sales_Cars.csv',index_col=0,parse_dates=[0] ,date_parser=parser)"
   ]
  },
  {
   "cell_type": "code",
   "execution_count": 4,
   "metadata": {},
   "outputs": [
    {
     "data": {
      "text/html": [
       "<div>\n",
       "<style scoped>\n",
       "    .dataframe tbody tr th:only-of-type {\n",
       "        vertical-align: middle;\n",
       "    }\n",
       "\n",
       "    .dataframe tbody tr th {\n",
       "        vertical-align: top;\n",
       "    }\n",
       "\n",
       "    .dataframe thead th {\n",
       "        text-align: right;\n",
       "    }\n",
       "</style>\n",
       "<table border=\"1\" class=\"dataframe\">\n",
       "  <thead>\n",
       "    <tr style=\"text-align: right;\">\n",
       "      <th></th>\n",
       "      <th>Units Sold</th>\n",
       "    </tr>\n",
       "    <tr>\n",
       "      <th>Months</th>\n",
       "      <th></th>\n",
       "    </tr>\n",
       "  </thead>\n",
       "  <tbody>\n",
       "    <tr>\n",
       "      <th>2016-01-01</th>\n",
       "      <td>9925</td>\n",
       "    </tr>\n",
       "    <tr>\n",
       "      <th>2016-02-01</th>\n",
       "      <td>2804</td>\n",
       "    </tr>\n",
       "    <tr>\n",
       "      <th>2016-03-01</th>\n",
       "      <td>1779</td>\n",
       "    </tr>\n",
       "    <tr>\n",
       "      <th>2016-04-01</th>\n",
       "      <td>8102</td>\n",
       "    </tr>\n",
       "    <tr>\n",
       "      <th>2016-05-01</th>\n",
       "      <td>5062</td>\n",
       "    </tr>\n",
       "  </tbody>\n",
       "</table>\n",
       "</div>"
      ],
      "text/plain": [
       "            Units Sold\n",
       "Months                \n",
       "2016-01-01        9925\n",
       "2016-02-01        2804\n",
       "2016-03-01        1779\n",
       "2016-04-01        8102\n",
       "2016-05-01        5062"
      ]
     },
     "execution_count": 4,
     "metadata": {},
     "output_type": "execute_result"
    }
   ],
   "source": [
    "sales.head()"
   ]
  },
  {
   "cell_type": "code",
   "execution_count": 5,
   "metadata": {},
   "outputs": [
    {
     "data": {
      "text/plain": [
       "<matplotlib.axes._subplots.AxesSubplot at 0x4fa9da10b8>"
      ]
     },
     "execution_count": 5,
     "metadata": {},
     "output_type": "execute_result"
    },
    {
     "data": {
      "image/png": "[encoded data removed]",
      "text/plain": [
       "<Figure size 432x288 with 1 Axes>"
      ]
     },
     "metadata": {},
     "output_type": "display_data"
    }
   ],
   "source": [
    "sales.plot()"
   ]
  },
  {
   "cell_type": "code",
   "execution_count": 6,
   "metadata": {},
   "outputs": [
    {
     "data": {
      "text/html": [
       "<div>\n",
       "<style scoped>\n",
       "    .dataframe tbody tr th:only-of-type {\n",
       "        vertical-align: middle;\n",
       "    }\n",
       "\n",
       "    .dataframe tbody tr th {\n",
       "        vertical-align: top;\n",
       "    }\n",
       "\n",
       "    .dataframe thead th {\n",
       "        text-align: right;\n",
       "    }\n",
       "</style>\n",
       "<table border=\"1\" class=\"dataframe\">\n",
       "  <thead>\n",
       "    <tr style=\"text-align: right;\">\n",
       "      <th></th>\n",
       "      <th>Units Sold</th>\n",
       "    </tr>\n",
       "    <tr>\n",
       "      <th>Months</th>\n",
       "      <th></th>\n",
       "    </tr>\n",
       "  </thead>\n",
       "  <tbody>\n",
       "    <tr>\n",
       "      <th>2016-02-01</th>\n",
       "      <td>-7121.0</td>\n",
       "    </tr>\n",
       "    <tr>\n",
       "      <th>2016-03-01</th>\n",
       "      <td>-1025.0</td>\n",
       "    </tr>\n",
       "    <tr>\n",
       "      <th>2016-04-01</th>\n",
       "      <td>6323.0</td>\n",
       "    </tr>\n",
       "    <tr>\n",
       "      <th>2016-05-01</th>\n",
       "      <td>-3040.0</td>\n",
       "    </tr>\n",
       "    <tr>\n",
       "      <th>2016-06-01</th>\n",
       "      <td>-2088.0</td>\n",
       "    </tr>\n",
       "    <tr>\n",
       "      <th>2016-07-01</th>\n",
       "      <td>1213.0</td>\n",
       "    </tr>\n",
       "    <tr>\n",
       "      <th>2016-08-01</th>\n",
       "      <td>3895.0</td>\n",
       "    </tr>\n",
       "    <tr>\n",
       "      <th>2016-09-01</th>\n",
       "      <td>-2012.0</td>\n",
       "    </tr>\n",
       "    <tr>\n",
       "      <th>2016-10-01</th>\n",
       "      <td>523.0</td>\n",
       "    </tr>\n",
       "    <tr>\n",
       "      <th>2016-11-01</th>\n",
       "      <td>-6469.0</td>\n",
       "    </tr>\n",
       "    <tr>\n",
       "      <th>2016-12-01</th>\n",
       "      <td>4044.0</td>\n",
       "    </tr>\n",
       "    <tr>\n",
       "      <th>2017-01-01</th>\n",
       "      <td>4095.0</td>\n",
       "    </tr>\n",
       "    <tr>\n",
       "      <th>2017-02-01</th>\n",
       "      <td>711.0</td>\n",
       "    </tr>\n",
       "    <tr>\n",
       "      <th>2017-03-01</th>\n",
       "      <td>-4073.0</td>\n",
       "    </tr>\n",
       "    <tr>\n",
       "      <th>2017-04-01</th>\n",
       "      <td>-3228.0</td>\n",
       "    </tr>\n",
       "    <tr>\n",
       "      <th>2017-05-01</th>\n",
       "      <td>5279.0</td>\n",
       "    </tr>\n",
       "    <tr>\n",
       "      <th>2017-06-01</th>\n",
       "      <td>-1522.0</td>\n",
       "    </tr>\n",
       "    <tr>\n",
       "      <th>2017-07-01</th>\n",
       "      <td>-1600.0</td>\n",
       "    </tr>\n",
       "    <tr>\n",
       "      <th>2017-08-01</th>\n",
       "      <td>2078.0</td>\n",
       "    </tr>\n",
       "    <tr>\n",
       "      <th>2017-09-01</th>\n",
       "      <td>1542.0</td>\n",
       "    </tr>\n",
       "    <tr>\n",
       "      <th>2017-10-01</th>\n",
       "      <td>-6177.0</td>\n",
       "    </tr>\n",
       "    <tr>\n",
       "      <th>2017-11-01</th>\n",
       "      <td>952.0</td>\n",
       "    </tr>\n",
       "    <tr>\n",
       "      <th>2017-12-01</th>\n",
       "      <td>-38.0</td>\n",
       "    </tr>\n",
       "    <tr>\n",
       "      <th>2018-01-01</th>\n",
       "      <td>2883.0</td>\n",
       "    </tr>\n",
       "    <tr>\n",
       "      <th>2018-02-01</th>\n",
       "      <td>-3255.0</td>\n",
       "    </tr>\n",
       "    <tr>\n",
       "      <th>2018-03-01</th>\n",
       "      <td>3583.0</td>\n",
       "    </tr>\n",
       "    <tr>\n",
       "      <th>2018-04-01</th>\n",
       "      <td>424.0</td>\n",
       "    </tr>\n",
       "    <tr>\n",
       "      <th>2018-05-01</th>\n",
       "      <td>-698.0</td>\n",
       "    </tr>\n",
       "    <tr>\n",
       "      <th>2018-06-01</th>\n",
       "      <td>-2754.0</td>\n",
       "    </tr>\n",
       "    <tr>\n",
       "      <th>2018-07-01</th>\n",
       "      <td>6291.0</td>\n",
       "    </tr>\n",
       "    <tr>\n",
       "      <th>2018-08-01</th>\n",
       "      <td>-6536.0</td>\n",
       "    </tr>\n",
       "    <tr>\n",
       "      <th>2018-09-01</th>\n",
       "      <td>799.0</td>\n",
       "    </tr>\n",
       "    <tr>\n",
       "      <th>2018-10-01</th>\n",
       "      <td>5326.0</td>\n",
       "    </tr>\n",
       "    <tr>\n",
       "      <th>2018-11-01</th>\n",
       "      <td>-923.0</td>\n",
       "    </tr>\n",
       "    <tr>\n",
       "      <th>2018-12-01</th>\n",
       "      <td>-918.0</td>\n",
       "    </tr>\n",
       "  </tbody>\n",
       "</table>\n",
       "</div>"
      ],
      "text/plain": [
       "            Units Sold\n",
       "Months                \n",
       "2016-02-01     -7121.0\n",
       "2016-03-01     -1025.0\n",
       "2016-04-01      6323.0\n",
       "2016-05-01     -3040.0\n",
       "2016-06-01     -2088.0\n",
       "2016-07-01      1213.0\n",
       "2016-08-01      3895.0\n",
       "2016-09-01     -2012.0\n",
       "2016-10-01       523.0\n",
       "2016-11-01     -6469.0\n",
       "2016-12-01      4044.0\n",
       "2017-01-01      4095.0\n",
       "2017-02-01       711.0\n",
       "2017-03-01     -4073.0\n",
       "2017-04-01     -3228.0\n",
       "2017-05-01      5279.0\n",
       "2017-06-01     -1522.0\n",
       "2017-07-01     -1600.0\n",
       "2017-08-01      2078.0\n",
       "2017-09-01      1542.0\n",
       "2017-10-01     -6177.0\n",
       "2017-11-01       952.0\n",
       "2017-12-01       -38.0\n",
       "2018-01-01      2883.0\n",
       "2018-02-01     -3255.0\n",
       "2018-03-01      3583.0\n",
       "2018-04-01       424.0\n",
       "2018-05-01      -698.0\n",
       "2018-06-01     -2754.0\n",
       "2018-07-01      6291.0\n",
       "2018-08-01     -6536.0\n",
       "2018-09-01       799.0\n",
       "2018-10-01      5326.0\n",
       "2018-11-01      -923.0\n",
       "2018-12-01      -918.0"
      ]
     },
     "execution_count": 6,
     "metadata": {},
     "output_type": "execute_result"
    }
   ],
   "source": [
    "sales_diff = sales.diff(periods=1)\n",
    "sales_diff = sales_diff[1:]\n",
    "sales_diff"
   ]
  },
  {
   "cell_type": "code",
   "execution_count": 10,
   "metadata": {},
   "outputs": [
    {
     "data": {
      "image/png": "[encoded data removed]",
      "text/plain": [
       "<Figure size 432x288 with 1 Axes>"
      ]
     },
     "execution_count": 10,
     "metadata": {},
     "output_type": "execute_result"
    },
    {
     "data": {
      "image/png": "[encoded data removed]",
      "text/plain": [
       "<Figure size 432x288 with 1 Axes>"
      ]
     },
     "metadata": {},
     "output_type": "display_data"
    }
   ],
   "source": [
    "from statsmodels.graphics.tsaplots import plot_acf\n",
    "plot_acf(sales)"
   ]
  },
  {
   "cell_type": "code",
   "execution_count": null,
   "metadata": {},
   "outputs": [],
   "source": []
  },
  {
   "cell_type": "code",
   "execution_count": null,
   "metadata": {},
   "outputs": [],
   "source": []
  }
 ],
 "metadata": {
  "kernelspec": {
   "display_name": "Python 3",
   "language": "python",
   "name": "python3"
  },
  "language_info": {
   "codemirror_mode": {
    "name": "ipython",
    "version": 3
   },
   "file_extension": ".py",
   "mimetype": "text/x-python",
   "name": "python",
   "nbconvert_exporter": "python",
   "pygments_lexer": "ipython3",
   "version": "3.6.4"
  }
 },
 "nbformat": 4,
 "nbformat_minor": 2
}
